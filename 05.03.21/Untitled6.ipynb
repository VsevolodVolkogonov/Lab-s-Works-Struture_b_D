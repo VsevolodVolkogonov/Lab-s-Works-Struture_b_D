{
 "cells": [
  {
   "cell_type": "markdown",
   "metadata": {},
   "source": [
    "# Matrix "
   ]
  },
  {
   "cell_type": "code",
   "execution_count": null,
   "metadata": {},
   "outputs": [],
   "source": [
    "def get_list_of_diagonal_elements(matrix, start_line, start_row):\n",
    "    x, y = start_row, start_line\n",
    "    lst = [[matrix[y][x], y, x]]\n",
    "    while x + 1 < rows and y + 1 < lines:\n",
    "        x += 1\n",
    "        y += 1\n",
    "        lst.append([matrix[y][x], y, x])\n",
    "    return lst\n",
    "\n",
    "lines = int(input(\"Введите количество строк в матрице: \"))\n",
    "rows = int(input(\"Введите количество столбцов в матрице: \"))\n",
    "matrix = []\n",
    "print(\"Заполните матрицу\")\n",
    "for i in range(lines):\n",
    "    matrix.append([])\n",
    "    print(\"{} строка\".format(i))\n",
    "    for j in range(rows):\n",
    "        matrix[i].append(int(input(\"{} столбец: \".format(j))))\n",
    "print(\"Ваша матрица: \")\n",
    "for line in matrix:\n",
    "    print(line)\n",
    "# Сортировка по 1 столбцу\n",
    "for i in range(lines):\n",
    "    lst = get_list_of_diagonal_elements(matrix, i, 0)\n",
    "    values = []\n",
    "    for j in range(len(lst)):\n",
    "        values.append(lst[j][0])\n",
    "    values.sort()\n",
    "    y = i\n",
    "    x = 0\n",
    "    k = 0\n",
    "    while x + 1 < rows and y + 1 < lines:\n",
    "        matrix[y][x] = values[k]\n",
    "        x += 1\n",
    "        y += 1\n",
    "        k += 1\n",
    "    matrix[y][x] = values[k]\n",
    "# Сортировка по 1 строке\n",
    "for i in range(rows):\n",
    "    lst = get_list_of_diagonal_elements(matrix, 0, i)\n",
    "    values = []\n",
    "    for j in range(len(lst)):\n",
    "        values.append(lst[j][0])\n",
    "    values.sort()\n",
    "    y = 0\n",
    "    x = i\n",
    "    k = 0\n",
    "    while x + 1 < rows and y + 1 < lines:\n",
    "        matrix[y][x] = values[k]\n",
    "        x += 1\n",
    "        y += 1\n",
    "        k += 1\n",
    "    matrix[y][x] = values[k]\n",
    "\n",
    "\n",
    "print(\"Результирующая матрица:\")\n",
    "for line in matrix:\n",
    "    print(line)\n",
    "    "
   ]
  }
 ],
 "metadata": {
  "kernelspec": {
   "display_name": "Python 3",
   "language": "python",
   "name": "python3"
  },
  "language_info": {
   "codemirror_mode": {
    "name": "ipython",
    "version": 3
   },
   "file_extension": ".py",
   "mimetype": "text/x-python",
   "name": "python",
   "nbconvert_exporter": "python",
   "pygments_lexer": "ipython3",
   "version": "3.8.5"
  }
 },
 "nbformat": 4,
 "nbformat_minor": 4
}
