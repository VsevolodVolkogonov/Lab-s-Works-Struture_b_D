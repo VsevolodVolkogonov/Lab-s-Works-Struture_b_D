{
 "cells": [
  {
   "cell_type": "markdown",
   "metadata": {},
   "source": [
    "# Проблема 1 "
   ]
  },
  {
   "cell_type": "code",
   "execution_count": null,
   "metadata": {},
   "outputs": [],
   "source": [
    "data = [3,4,5,12,9,7,6,1,8,34]\n",
    "data.sort(reverse=True)\n",
    "triangle = [data.pop(0),data.pop(0),data.pop(0)]\n",
    "for i in data:\n",
    "    tmax=max(triangle)\n",
    "    if(tmax<sum(triangle)-tmax):\n",
    "        break\n",
    "    else:\n",
    "        triangle[triangle.index(tmax)]=i\n",
    "tmax=max(triangle)\n",
    "tsum=sum(triangle)\n",
    "print(tsum if tmax<tsum-tmax else 0)"
   ]
  }
 ],
 "metadata": {
  "kernelspec": {
   "display_name": "Python 3",
   "language": "python",
   "name": "python3"
  },
  "language_info": {
   "codemirror_mode": {
    "name": "ipython",
    "version": 3
   },
   "file_extension": ".py",
   "mimetype": "text/x-python",
   "name": "python",
   "nbconvert_exporter": "python",
   "pygments_lexer": "ipython3",
   "version": "3.8.5"
  }
 },
 "nbformat": 4,
 "nbformat_minor": 4
}
