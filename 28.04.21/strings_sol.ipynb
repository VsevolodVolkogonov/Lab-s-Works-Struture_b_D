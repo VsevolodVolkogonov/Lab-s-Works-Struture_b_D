{
  "nbformat": 4,
  "nbformat_minor": 0,
  "metadata": {
    "colab": {
      "name": "strings.ipynb",
      "provenance": [],
      "collapsed_sections": []
    },
    "kernelspec": {
      "name": "python3",
      "display_name": "Python 3"
    },
    "language_info": {
      "name": "python"
    }
  },
  "cells": [
    {
      "cell_type": "markdown",
      "metadata": {
        "id": "U9lu1hxTIW9O"
      },
      "source": [
        "# Задачи на строки"
      ]
    },
    {
      "cell_type": "markdown",
      "metadata": {
        "id": "JhssRcS1Ibm2"
      },
      "source": [
        "### 1.\n",
        "\n",
        "Даны две строки: s1 и s2 с одинаковым размером, проверьте, может ли некоторая перестановка строки s1 “победить” некоторую перестановку строки s2 или наоборот.\n",
        "Строка x может “победить” строку y (обе имеют размер n), если x[i]> = y [i] (в алфавитном порядке) для всех i от 0 до n-1."
      ]
    },
    {
      "cell_type": "code",
      "metadata": {
        "id": "b1GuNia_l1g9"
      },
      "source": [
        "#для простоты вычислений\n",
        "import numpy as np"
      ],
      "execution_count": null,
      "outputs": []
    },
    {
      "cell_type": "code",
      "metadata": {
        "colab": {
          "base_uri": "https://localhost:8080/"
        },
        "id": "Adsbu8KTIkft",
        "outputId": "d5fae493-73c4-4c53-9922-cfba5761629c"
      },
      "source": [
        "s1 = \"bsdbsd\"\n",
        "s2 = \"ctring\"\n",
        "\n",
        "assert(len(s1)==len(s2))\n",
        "\n",
        "b1 = np.array(bytearray(s1.encode()))\n",
        "b2 = np.array(bytearray(s2.encode()))\n",
        "\n",
        "mean1 = b1.mean()\n",
        "mean2 = b2.mean()\n",
        "max1 = b1.max()\n",
        "max2 = b2.max()\n",
        "min1 = b1.min()\n",
        "min2 = b2.min()\n",
        "\n",
        "found=False\n",
        "if mean1>=mean2 and max1>=max2 and min1>=min2:\n",
        "  print(\"Строка 1 может победить строку 2\")\n",
        "  found=True\n",
        "if mean2>=mean1 and max2>=max1 and min2>=min1:\n",
        "  print(\"Строка 2 может победить строку 1\")\n",
        "  found=True\n",
        "if not found:\n",
        "  print(\"Никто никого не победил\")"
      ],
      "execution_count": null,
      "outputs": [
        {
          "output_type": "stream",
          "text": [
            "Строка 2 может победить строку 1\n"
          ],
          "name": "stdout"
        }
      ]
    },
    {
      "cell_type": "markdown",
      "metadata": {
        "id": "c6hvn9GpJFrc"
      },
      "source": [
        "### 2.\n",
        "Дана строка s, вернуть самую длинную полиндромную подстроку в s."
      ]
    },
    {
      "cell_type": "code",
      "metadata": {
        "colab": {
          "base_uri": "https://localhost:8080/"
        },
        "id": "bmCkVF9OJJkf",
        "outputId": "30cae4a2-4cd5-404e-f420-9ea53598e652"
      },
      "source": [
        "def max_palindrome(s):\n",
        "    m = \"\"\n",
        "    for i in range(1, len(s) + 1):\n",
        "        for j in range(len(s) - i + 1):\n",
        "            string = s[j:j+i]\n",
        "            if string == string[::-1]:\n",
        "                m = string\n",
        "    return m\n",
        "\n",
        "\n",
        "s = input(\"Введите исходную строку: \")\n",
        "print(\"Максимальный палиндром:\", max_palindrome(s))"
      ],
      "execution_count": null,
      "outputs": [
        {
          "output_type": "stream",
          "text": [
            "Введите исходную строку: фдфдфывфыв\n",
            "Максимальный палиндром: фдфдф\n"
          ],
          "name": "stdout"
        }
      ]
    },
    {
      "cell_type": "markdown",
      "metadata": {
        "id": "3EZoEtrSN9su"
      },
      "source": [
        "### 3.\n",
        "\n",
        "Вернуть количество отдельных непустых подстрок текста, которые могут быть записаны как конкатенация некоторой строки с самой собой (т.е. она может быть записана, как a + a, где a - некоторая строка)."
      ]
    },
    {
      "cell_type": "code",
      "metadata": {
        "id": "zveU569hN_vA",
        "colab": {
          "base_uri": "https://localhost:8080/"
        },
        "outputId": "0d00453d-d97f-4f85-ad53-e77c63e36f95"
      },
      "source": [
        "def concatenation(s):\n",
        "    L = len(s)\n",
        "    k = 0\n",
        "    parts = []\n",
        "    for i in range(2, L, 2):\n",
        "        for j in range(L - i + 1):\n",
        "            word = s[j:j + i]\n",
        "            part1 = word[:i // 2]\n",
        "            part2 = word[i // 2:]\n",
        "            if part1 == part2 and not part1 in parts:\n",
        "                parts.append(part1)\n",
        "                k += 1\n",
        "    return k\n",
        "\n",
        "\n",
        "a = input(\"Введите исходную строку: \")\n",
        "print(concatenation(a))\n"
      ],
      "execution_count": 1,
      "outputs": [
        {
          "output_type": "stream",
          "text": [
            "Введите исходную строку: asdasdasd\n",
            "3\n"
          ],
          "name": "stdout"
        }
      ]
    }
  ]
}