{
 "cells": [
  {
   "cell_type": "markdown",
   "metadata": {},
   "source": [
    "# Думский регламент"
   ]
  },
  {
   "cell_type": "code",
   "execution_count": null,
   "metadata": {},
   "outputs": [],
   "source": [
    "# Ввод количества строк\n",
    "K = int(input(\"Введите количество строк в записи сессии: \"))\n",
    "# Массив, хранящий партии, выдвинувшие решение на голосование\n",
    "Consignments = []\n",
    "# Флаг для определения корректности проведения заседания\n",
    "correct = \"Yes\"\n",
    "# Ввод действий\n",
    "for i in range(K):\n",
    "    # Ввод строки\n",
    "    s = input(\"Введите действие (Vote / Add) и партию (a..z): \")\n",
    "    # Действие\n",
    "    action = s.split(\" \")[0]\n",
    "    # Партия\n",
    "    cons = s.split(\" \")[1]\n",
    "    # Если действие: вынести на голосование\n",
    "    if action == \"Add\":\n",
    "        # Добавляем партию в массив партий, чьи решения должны быть обсуждены\n",
    "        Consignments.append(cons)\n",
    "    # Если действие: провести голосование, а решений для обсуждения нет\n",
    "    elif len(Consignments) == 0:\n",
    "        # Корректность нарушена\n",
    "        correct = \"No\"\n",
    "        break\n",
    "    # Если дейтсиве: провести голосование, и не нарушен порядок очереди\n",
    "    elif cons == Consignments[len(Consignments) - 1]:\n",
    "        # Удаление из массива партий последней партии\n",
    "        Consignments.pop()\n",
    "    # Все оставшиеся некорректные случаи\n",
    "    else:\n",
    "        # Корректность нарушена\n",
    "        correct = \"No\"\n",
    "        break\n",
    "# Проверка на то, что имеются обсуждения, решения по которым не было принято\n",
    "if len(Consignments) != 0:\n",
    "    # Корректность нарушена\n",
    "    correct = \"No\"\n",
    "# Вывод ответа\n",
    "print(correct)"
   ]
  }
 ],
 "metadata": {
  "kernelspec": {
   "display_name": "Python 3",
   "language": "python",
   "name": "python3"
  },
  "language_info": {
   "codemirror_mode": {
    "name": "ipython",
    "version": 3
   },
   "file_extension": ".py",
   "mimetype": "text/x-python",
   "name": "python",
   "nbconvert_exporter": "python",
   "pygments_lexer": "ipython3",
   "version": "3.8.5"
  }
 },
 "nbformat": 4,
 "nbformat_minor": 4
}
