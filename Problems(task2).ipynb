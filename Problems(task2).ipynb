{
 "cells": [
  {
   "cell_type": "markdown",
   "metadata": {},
   "source": [
    "# Задачa Problems(2)"
   ]
  },
  {
   "cell_type": "code",
   "execution_count": 1,
   "metadata": {},
   "outputs": [
    {
     "name": "stdout",
     "output_type": "stream",
     "text": [
      "443333322\n"
     ]
    }
   ],
   "source": [
    "\n",
    "chArray = [34323,3432]\n",
    "L=''.join([str(i) for i in chArray])\n",
    "L_None = []\n",
    "def sec (Beg,Answ):\n",
    "    for i in range(len(Beg)):\n",
    "        Answ.append(L[i])\n",
    "    Answ.sort(reverse=True)\n",
    "    print(''.join(Answ))\n",
    "sec(L,L_None)\n"
   ]
  },
  {
   "cell_type": "code",
   "execution_count": null,
   "metadata": {},
   "outputs": [],
   "source": []
  }
 ],
 "metadata": {
  "kernelspec": {
   "display_name": "Python 3",
   "language": "python",
   "name": "python3"
  },
  "language_info": {
   "codemirror_mode": {
    "name": "ipython",
    "version": 3
   },
   "file_extension": ".py",
   "mimetype": "text/x-python",
   "name": "python",
   "nbconvert_exporter": "python",
   "pygments_lexer": "ipython3",
   "version": "3.8.5"
  }
 },
 "nbformat": 4,
 "nbformat_minor": 4
}
