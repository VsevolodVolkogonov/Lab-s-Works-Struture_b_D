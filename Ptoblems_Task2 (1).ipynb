{
 "cells": [
  {
   "cell_type": "markdown",
   "metadata": {},
   "source": [
    "# Задачи на  нахождение максимально возможного значения"
   ]
  },
  {
   "cell_type": "code",
   "execution_count": 5,
   "metadata": {},
   "outputs": [
    {
     "name": "stdout",
     "output_type": "stream",
     "text": [
      "изначальное значение нашего массива [3434, 343200]\n",
      "Длина := 6\n",
      "тот массив который мы будем подавать в solution - [[3434, 343400], [343200, 343200]]\n",
      "конечный результат программы - 3434//343200\n"
     ]
    }
   ],
   "source": [
    "import random\n",
    "class ProblemsSolution:\n",
    "    def solution(array):\n",
    "        for i in range(len(array) - 1):\n",
    "            for j in range(len(array) - i - 1):\n",
    "                if array[j][1] < array[j + 1][1] and \\\n",
    "                        len(str(array[j][0]) + str(array[j + 1][0])) >= len(str(array[j + 1][0]) + str(array[j][0])):\n",
    "                    array[j], array[j + 1] = array[j + 1], array[j]\n",
    "        res = '//'.join(str(i[0]) for i in array)\n",
    "        print(\"конечный результат программы - \" + str(res))\n",
    "\n",
    "class ValuesSolution:\n",
    "    def values(array_before_solution):\n",
    "        print(\"изначальное значение нашего массива \" + str(array_before_solution))\n",
    "        max_length_value = len(str(max(array_before_solution)))\n",
    "        print(\"Длина := \" + str(max_length_value))\n",
    "        arr2 = list(map(lambda arg:  [arg, arg * (10 ** (max_length_value - len(str(arg))))], array_before_solution))\n",
    "        print(\"тот массив который мы будем подавать в solution - \" + str(arr2))\n",
    "        ProblemsSolution.solution(arr2)\n",
    "\n",
    "ValuesSolution.values([3434,343200])\n"
   ]
  },
  {
   "cell_type": "markdown",
   "metadata": {},
   "source": [
    "# Cтарался сделать ООП-шно"
   ]
  }
 ],
 "metadata": {
  "kernelspec": {
   "display_name": "Python 3",
   "language": "python",
   "name": "python3"
  },
  "language_info": {
   "codemirror_mode": {
    "name": "ipython",
    "version": 3
   },
   "file_extension": ".py",
   "mimetype": "text/x-python",
   "name": "python",
   "nbconvert_exporter": "python",
   "pygments_lexer": "ipython3",
   "version": "3.8.5"
  }
 },
 "nbformat": 4,
 "nbformat_minor": 4
}
