{
 "cells": [
  {
   "cell_type": "markdown",
   "metadata": {},
   "source": [
    "# Бойер-Мун"
   ]
  },
  {
   "cell_type": "code",
   "execution_count": null,
   "metadata": {},
   "outputs": [],
   "source": [
    "t = \"данные\"\n",
    "\n",
    "# Этап 1: формирование таблицы смещений\n",
    "\n",
    "S = set()  # уникальные символы в образе\n",
    "M = len(t) # число символов в образе\n",
    "d = {}     # словарь смещений\n",
    "\n",
    "for i in range(M-2, -1, -1): # итерации с предпоследнего символа\n",
    "    if t[i] not in S:        # если символ еще не добавлен в таблицу\n",
    "        d[t[i]] = M-i-1\n",
    "        S.add(t[i])\n",
    "\n",
    "if t[M-1] not in S:     # отдельно формируем последний символ\n",
    "    d[t[M-1]] = M\n",
    "\n",
    "d['*'] = M              # смещения для прочих символов\n",
    "\n",
    "print(d)\n",
    "\n",
    "# Этап 2: поиск образа в строке\n",
    "\n",
    "a = \"метеоданные\"\n",
    "N = len(a)\n",
    "\n",
    "if N >= M:\n",
    "    i = M-1       # счетчик проверяемого символа в строке\n",
    "\n",
    "    while(i < N):\n",
    "        k = 0\n",
    "        j = 0\n",
    "        for j in range(M-1, -1, -1):\n",
    "            if a[i-k] != t[j]:\n",
    "                if j == M-1:\n",
    "                    off = d[a[i]] if d.get(a[i], False) else d['*']  # смещение, если не равен последний символ образа\n",
    "                else:\n",
    "                    off = d[t[j]]   # смещение, если не равен не последний символ образа\n",
    "\n",
    "                i += off    # смещение счетчика строки\n",
    "                break\n",
    "\n",
    "            k += 1          # смещение для сравниваемого символа в строке\n",
    "\n",
    "        if j == 0:          # если дошли до начала образа, значит, все его символы совпали\n",
    "            print(f\" найдено по индексу {i-k+1}\")\n",
    "            break\n",
    "    else:\n",
    "        print(\"образ не найден\")\n",
    "else:\n",
    "    print(\"образ не найден\")"
   ]
  },
  {
   "cell_type": "markdown",
   "metadata": {},
   "source": [
    "#  Алгоритм Кнута-Морриса-Пратта"
   ]
  },
  {
   "cell_type": "code",
   "execution_count": null,
   "metadata": {},
   "outputs": [],
   "source": [
    "t = \"яблоки\"\n",
    "\n",
    "p = [0]*len(t)\n",
    "j = 0\n",
    "i = 1\n",
    "\n",
    "while i < len(t):\n",
    "    if t[j] == t[i]:\n",
    "        p[i] = j+1\n",
    "        i += 1\n",
    "        j += 1\n",
    "    else:\n",
    "        if j == 0:\n",
    "            p[i] = 0;\n",
    "            i += 1\n",
    "        else:\n",
    "            j = p[j-1]\n",
    "\n",
    "print(p)\n",
    "\n",
    "a = \"красная шапочка любит яблоки красные и красивые\"\n",
    "m = len(t)\n",
    "n = len(a)\n",
    "\n",
    "i = 0\n",
    "j = 0\n",
    "while i < n:\n",
    "    if a[i] == t[j]:\n",
    "        i += 1\n",
    "        j += 1\n",
    "        if j == m:\n",
    "            print(\"найдено\")\n",
    "            break\n",
    "    else:\n",
    "        if j > 0:\n",
    "            j = p[j-1]\n",
    "        else:\n",
    "            i += 1\n",
    "\n",
    "if i == n:\n",
    "    print(\"не найдено\")"
   ]
  }
 ],
 "metadata": {
  "kernelspec": {
   "display_name": "Python 3",
   "language": "python",
   "name": "python3"
  },
  "language_info": {
   "codemirror_mode": {
    "name": "ipython",
    "version": 3
   },
   "file_extension": ".py",
   "mimetype": "text/x-python",
   "name": "python",
   "nbconvert_exporter": "python",
   "pygments_lexer": "ipython3",
   "version": "3.8.5"
  }
 },
 "nbformat": 4,
 "nbformat_minor": 4
}
