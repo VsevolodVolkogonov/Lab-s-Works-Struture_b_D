{
 "cells": [
  {
   "cell_type": "code",
   "execution_count": 1,
   "metadata": {},
   "outputs": [],
   "source": [
    "\n",
    "def largestNumber():\n",
    "    nums = list(map(int, input(\"введите ваш ваши числа через пробел :\").split()))\n",
    "    largest_num = ''.join(sorted(map(str, nums), key=Key))\n",
    "    print(largest_num)\n",
    "    return '0' if largest_num[0] == '0' else largest_num\n",
    "\n",
    "\n",
    "class Key(str):\n",
    "    def __lt__(x, y):\n",
    "        return x + y > y + x\n",
    "\n",
    "largestNumber()"
   ]
  },
  {
   "cell_type": "code",
   "execution_count": null,
   "metadata": {},
   "outputs": [],
   "source": []
  },
  {
   "cell_type": "code",
   "execution_count": null,
   "metadata": {},
   "outputs": [],
   "source": []
  }
 ],
 "metadata": {
  "kernelspec": {
   "display_name": "Python 3",
   "language": "python",
   "name": "python3"
  },
  "language_info": {
   "codemirror_mode": {
    "name": "ipython",
    "version": 3
   },
   "file_extension": ".py",
   "mimetype": "text/x-python",
   "name": "python",
   "nbconvert_exporter": "python",
   "pygments_lexer": "ipython3",
   "version": "3.8.5"
  }
 },
 "nbformat": 4,
 "nbformat_minor": 4
}
